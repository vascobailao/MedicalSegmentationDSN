{
 "cells": [
  {
   "cell_type": "code",
   "execution_count": 20,
   "metadata": {},
   "outputs": [],
   "source": [
    "import SimpleITK as sitk\n",
    "import numpy as np"
   ]
  },
  {
   "cell_type": "code",
   "execution_count": 21,
   "metadata": {},
   "outputs": [],
   "source": [
    "itkimage = sitk.ReadImage(\"data/training_data/Case48.mhd\")"
   ]
  },
  {
   "cell_type": "code",
   "execution_count": 22,
   "metadata": {},
   "outputs": [
    {
     "name": "stdout",
     "output_type": "stream",
     "text": [
      "(320, 320, 24)\n",
      "(-103.302, -115.3, -28.6514)\n",
      "(0.625, 0.625, 3.5999999046325684)\n",
      "(1.0, 0.0, 0.0, 0.0, 0.988494, -0.151261, 0.0, 0.151261, 0.988494)\n",
      "1\n"
     ]
    }
   ],
   "source": [
    "\n",
    "print(itkimage.GetSize())\n",
    "print(itkimage.GetOrigin())\n",
    "print(itkimage.GetSpacing())\n",
    "print(itkimage.GetDirection())\n",
    "print(itkimage.GetNumberOfComponentsPerPixel())"
   ]
  },
  {
   "cell_type": "code",
   "execution_count": 23,
   "metadata": {},
   "outputs": [],
   "source": [
    "sitk.Show(itkimage)"
   ]
  },
  {
   "cell_type": "code",
   "execution_count": null,
   "metadata": {},
   "outputs": [],
   "source": []
  }
 ],
 "metadata": {
  "kernelspec": {
   "display_name": "Python 3",
   "language": "python",
   "name": "python3"
  },
  "language_info": {
   "codemirror_mode": {
    "name": "ipython",
    "version": 3
   },
   "file_extension": ".py",
   "mimetype": "text/x-python",
   "name": "python",
   "nbconvert_exporter": "python",
   "pygments_lexer": "ipython3",
   "version": "3.6.3"
  }
 },
 "nbformat": 4,
 "nbformat_minor": 2
}
