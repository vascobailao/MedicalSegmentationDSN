{
 "cells": [
  {
   "cell_type": "code",
   "execution_count": 1,
   "metadata": {},
   "outputs": [],
   "source": [
    "import SimpleITK as sitk\n",
    "import numpy as np"
   ]
  },
  {
   "cell_type": "code",
   "execution_count": 4,
   "metadata": {},
   "outputs": [],
   "source": [
    "itkimage = sitk.ReadImage(\"data/training_data/Case00.mhd\")"
   ]
  },
  {
   "cell_type": "code",
   "execution_count": 10,
   "metadata": {},
   "outputs": [
    {
     "name": "stdout",
     "output_type": "stream",
     "text": [
      "(512, 512, 47)\n",
      "(-71.985, -53.3146, -55.7472)\n",
      "(0.2734380066394806, 0.2734369933605194, 2.200010061264038)\n",
      "(0.999813, 0.0, -0.0193232, -0.00289921, 0.988769, -0.149421, 0.0191045, 0.149449, 0.988585)\n",
      "1\n"
     ]
    }
   ],
   "source": [
    "\n",
    "print(itkimage.GetSize())\n",
    "print(itkimage.GetOrigin())\n",
    "print(itkimage.GetSpacing())\n",
    "print(itkimage.GetDirection())\n",
    "print(itkimage.GetNumberOfComponentsPerPixel())"
   ]
  },
  {
   "cell_type": "code",
   "execution_count": 12,
   "metadata": {},
   "outputs": [
    {
     "ename": "RuntimeError",
     "evalue": "Exception thrown in SimpleITK Show: /scratch/dashboards/SimpleITK-OSX10.6-intel-pkg/SimpleITK/Code/IO/src/sitkShow.cxx:116:\nsitk::ERROR: No ImageJ/Fiji application found.",
     "output_type": "error",
     "traceback": [
      "\u001b[0;31m---------------------------------------------------------------------------\u001b[0m",
      "\u001b[0;31mRuntimeError\u001b[0m                              Traceback (most recent call last)",
      "\u001b[0;32m<ipython-input-12-509637b261b4>\u001b[0m in \u001b[0;36m<module>\u001b[0;34m()\u001b[0m\n\u001b[0;32m----> 1\u001b[0;31m \u001b[0msitk\u001b[0m\u001b[0;34m.\u001b[0m\u001b[0mShow\u001b[0m\u001b[0;34m(\u001b[0m\u001b[0mitkimage\u001b[0m\u001b[0;34m)\u001b[0m\u001b[0;34m\u001b[0m\u001b[0m\n\u001b[0m",
      "\u001b[0;32m/Library/Frameworks/Python.framework/Versions/3.6/lib/python3.6/site-packages/SimpleITK/SimpleITK.py\u001b[0m in \u001b[0;36mShow\u001b[0;34m(*args, **kwargs)\u001b[0m\n\u001b[1;32m   7731\u001b[0m \u001b[0;34m\u001b[0m\u001b[0m\n\u001b[1;32m   7732\u001b[0m     \"\"\"\n\u001b[0;32m-> 7733\u001b[0;31m     \u001b[0;32mreturn\u001b[0m \u001b[0m_SimpleITK\u001b[0m\u001b[0;34m.\u001b[0m\u001b[0mShow\u001b[0m\u001b[0;34m(\u001b[0m\u001b[0;34m*\u001b[0m\u001b[0margs\u001b[0m\u001b[0;34m,\u001b[0m \u001b[0;34m**\u001b[0m\u001b[0mkwargs\u001b[0m\u001b[0;34m)\u001b[0m\u001b[0;34m\u001b[0m\u001b[0m\n\u001b[0m\u001b[1;32m   7734\u001b[0m \u001b[0;32mclass\u001b[0m \u001b[0mImageFileWriter\u001b[0m\u001b[0;34m(\u001b[0m\u001b[0mProcessObject\u001b[0m\u001b[0;34m)\u001b[0m\u001b[0;34m:\u001b[0m\u001b[0;34m\u001b[0m\u001b[0m\n\u001b[1;32m   7735\u001b[0m     \"\"\"\n",
      "\u001b[0;31mRuntimeError\u001b[0m: Exception thrown in SimpleITK Show: /scratch/dashboards/SimpleITK-OSX10.6-intel-pkg/SimpleITK/Code/IO/src/sitkShow.cxx:116:\nsitk::ERROR: No ImageJ/Fiji application found."
     ]
    }
   ],
   "source": [
    "sitk.Show(itkimage)"
   ]
  },
  {
   "cell_type": "code",
   "execution_count": null,
   "metadata": {},
   "outputs": [],
   "source": []
  }
 ],
 "metadata": {
  "kernelspec": {
   "display_name": "Python 3",
   "language": "python",
   "name": "python3"
  },
  "language_info": {
   "codemirror_mode": {
    "name": "ipython",
    "version": 3
   },
   "file_extension": ".py",
   "mimetype": "text/x-python",
   "name": "python",
   "nbconvert_exporter": "python",
   "pygments_lexer": "ipython3",
   "version": "3.6.3"
  }
 },
 "nbformat": 4,
 "nbformat_minor": 2
}
